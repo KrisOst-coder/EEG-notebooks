{
 "cells": [
  {
   "cell_type": "code",
   "execution_count": 1,
   "id": "fc4e5cb0",
   "metadata": {},
   "outputs": [],
   "source": [
    "import pandas as pd\n",
    "import numpy as np"
   ]
  },
  {
   "cell_type": "code",
   "execution_count": null,
   "id": "cba8f637",
   "metadata": {},
   "outputs": [],
   "source": [
    "data_not_processed = pd.read_csv('Features_24048_ordered.csv')\n",
    "data_not_processed"
   ]
  },
  {
   "cell_type": "code",
   "execution_count": null,
   "id": "cca71250",
   "metadata": {},
   "outputs": [],
   "source": [
    "data_not_processed['labels']"
   ]
  },
  {
   "cell_type": "markdown",
   "id": "3616d3f9",
   "metadata": {},
   "source": [
    "## Посмотрим как обстоят дела с обучением на неотфильтрованной и немасштабированной выборке"
   ]
  },
  {
   "cell_type": "code",
   "execution_count": 2,
   "id": "b82ce95d",
   "metadata": {},
   "outputs": [],
   "source": [
    "from sklearn.model_selection import GridSearchCV\n",
    "from sklearn.neural_network import MLPRegressor"
   ]
  },
  {
   "cell_type": "code",
   "execution_count": null,
   "id": "f03b5626",
   "metadata": {},
   "outputs": [],
   "source": [
    "param_grid = {\n",
    "    'alpha' : [0.001, 0.01, 0.1, 1, 10, 100, 1000],\n",
    "    'max_iter' : [1000],\n",
    "}"
   ]
  },
  {
   "cell_type": "code",
   "execution_count": null,
   "id": "65f80709",
   "metadata": {},
   "outputs": [],
   "source": [
    "from sklearn.neural_network import MLPRegressor"
   ]
  },
  {
   "cell_type": "code",
   "execution_count": null,
   "id": "67cec96e",
   "metadata": {},
   "outputs": [],
   "source": [
    "mlp = MLPRegressor()"
   ]
  },
  {
   "cell_type": "code",
   "execution_count": null,
   "id": "c4a3f3ea",
   "metadata": {},
   "outputs": [],
   "source": [
    "X = data_not_processed.drop(['labels'] ,axis=1)\n",
    "y = data_not_processed['labels']"
   ]
  },
  {
   "cell_type": "code",
   "execution_count": null,
   "id": "357daeb2",
   "metadata": {},
   "outputs": [],
   "source": [
    "grid = GridSearchCV(mlp, param_grid, verbose=4, cv=2)"
   ]
  },
  {
   "cell_type": "code",
   "execution_count": null,
   "id": "c98be2e2",
   "metadata": {},
   "outputs": [],
   "source": [
    "grid.fit(X, y)"
   ]
  },
  {
   "cell_type": "code",
   "execution_count": null,
   "id": "cb45e0c0",
   "metadata": {},
   "outputs": [],
   "source": [
    "grid.best_params_[\"alpha\"]"
   ]
  },
  {
   "cell_type": "code",
   "execution_count": null,
   "id": "78939c28",
   "metadata": {},
   "outputs": [],
   "source": [
    "X_test = data_not_processed.loc[(data_not_processed['film'] == 41)].reset_index(drop=True)\n",
    "X_train = data_not_processed.loc[(data_not_processed['film'] != 41)].reset_index(drop=True)\n",
    "X_train = X_train.sample(frac=1)\n",
    "X_test = X_test.sample(frac=1)\n",
    "\n",
    "y_train = X_train['labels']\n",
    "y_test = X_test['labels']\n",
    "train_film = X_train['film']\n",
    "train_subj = X_train['Subj']\n",
    "train_ch = X_train['ch']\n",
    "test_film = X_test['film']\n",
    "test_subj = X_test['Subj']\n",
    "test_ch = np.array(X_test['ch'])\n",
    "\n",
    "X_train = X_train.drop(['film', 'ch', 'Subj', 'labels'], axis=1)\n",
    "X_test = X_test.drop(['film', 'ch', 'Subj', 'labels'], axis=1)"
   ]
  },
  {
   "cell_type": "code",
   "execution_count": null,
   "id": "4d4963e5",
   "metadata": {},
   "outputs": [],
   "source": [
    "preds = MLPRegressor(alpha=1000, max_iter=1000).fit(X_train, y_train).predict(X_test)"
   ]
  },
  {
   "cell_type": "code",
   "execution_count": null,
   "id": "b845e28e",
   "metadata": {},
   "outputs": [],
   "source": [
    "chans = ['Fz', 'F3', 'F7','C3', 'T7', 'Pz', 'P3','P7', 'O1', 'Oz', 'O2','P4', 'P8', 'Cz','C4', 'T8', 'F4', 'F8']\n",
    "pred = [[0 for j in range(8)] for i in range(42)]\n",
    "num_chans = [[0 for j in range(8)] for i in range(42)]\n",
    "labels = [[0 for j in range(8)] for i in range(42)]\n",
    "lbl = [[0 for j in range(8)] for i in range(42)]\n",
    "channels = [[] for i in range(40)]\n",
    "for i in range(len(preds)):\n",
    "    pred[np.array(test_subj)[i]][np.array(test_film)[i] - 41] += np.array(preds)[i]\n",
    "    num_chans[np.array(test_subj)[i]][np.array(test_film)[i] - 41] += 1\n",
    "    labels[np.array(test_subj)[i]][np.array(test_film)[i] - 41] += np.array(y_test)[i]\n",
    "    channels[np.array(test_subj)[i]].append(chans[test_ch[i]])\n",
    "labels = np.array(labels).astype(np.float64) / np.array(num_chans).astype(np.float64)\n",
    "pred = np.array(pred).astype(np.float64) / np.array(num_chans).astype(np.float64)\n",
    "labels = np.nan_to_num(labels)\n",
    "pred = np.nan_to_num(pred)\n",
    "predicted = []\n",
    "lbl = []\n",
    "for i in range(len(labels)):\n",
    "    if sum(labels[i]) != 0:\n",
    "        for j in range(8):\n",
    "            if labels[i][j] != 0:\n",
    "                lbl.append(labels[i][j])  \n",
    "                predicted.append(pred[i][j])"
   ]
  },
  {
   "cell_type": "code",
   "execution_count": null,
   "id": "d0b2ec2c",
   "metadata": {},
   "outputs": [],
   "source": [
    "for [l, p] in zip(lbl, predicted):\n",
    "    print('label : {:0.2f} predicted: {:0.2f} '.format(l, p))"
   ]
  },
  {
   "cell_type": "markdown",
   "id": "634f32c6",
   "metadata": {},
   "source": [
    "## Все плохо "
   ]
  },
  {
   "cell_type": "markdown",
   "id": "7c8c3be7",
   "metadata": {},
   "source": [
    "Откроем данные с категориальными признаками"
   ]
  },
  {
   "cell_type": "code",
   "execution_count": 39,
   "id": "1448ae1e",
   "metadata": {},
   "outputs": [
    {
     "data": {
      "text/html": [
       "<div>\n",
       "<style scoped>\n",
       "    .dataframe tbody tr th:only-of-type {\n",
       "        vertical-align: middle;\n",
       "    }\n",
       "\n",
       "    .dataframe tbody tr th {\n",
       "        vertical-align: top;\n",
       "    }\n",
       "\n",
       "    .dataframe thead th {\n",
       "        text-align: right;\n",
       "    }\n",
       "</style>\n",
       "<table border=\"1\" class=\"dataframe\">\n",
       "  <thead>\n",
       "    <tr style=\"text-align: right;\">\n",
       "      <th></th>\n",
       "      <th>teager_kaiser_energy_6mean</th>\n",
       "      <th>time_corr_F8</th>\n",
       "      <th>max_cross_corr_C4</th>\n",
       "      <th>fractal_katz</th>\n",
       "      <th>phase_lock_val_F3</th>\n",
       "      <th>fisher_information</th>\n",
       "      <th>decorr_time</th>\n",
       "      <th>max_cross_corr_T8</th>\n",
       "      <th>max_cross_corr_P3</th>\n",
       "      <th>spect_corr_C4</th>\n",
       "      <th>...</th>\n",
       "      <th>Subj_34</th>\n",
       "      <th>Subj_35</th>\n",
       "      <th>Subj_36</th>\n",
       "      <th>Subj_37</th>\n",
       "      <th>Subj_38</th>\n",
       "      <th>Subj_39</th>\n",
       "      <th>labels</th>\n",
       "      <th>film</th>\n",
       "      <th>ch</th>\n",
       "      <th>Subj</th>\n",
       "    </tr>\n",
       "  </thead>\n",
       "  <tbody>\n",
       "    <tr>\n",
       "      <th>0</th>\n",
       "      <td>1.116430e-04</td>\n",
       "      <td>0.218165</td>\n",
       "      <td>0.516112</td>\n",
       "      <td>0.363249</td>\n",
       "      <td>0.549476</td>\n",
       "      <td>0.279508</td>\n",
       "      <td>0.744318</td>\n",
       "      <td>0.788015</td>\n",
       "      <td>0.427071</td>\n",
       "      <td>0.295006</td>\n",
       "      <td>...</td>\n",
       "      <td>0.0</td>\n",
       "      <td>0.0</td>\n",
       "      <td>0.0</td>\n",
       "      <td>0.0</td>\n",
       "      <td>0.0</td>\n",
       "      <td>0.0</td>\n",
       "      <td>7.83</td>\n",
       "      <td>1</td>\n",
       "      <td>0</td>\n",
       "      <td>1</td>\n",
       "    </tr>\n",
       "    <tr>\n",
       "      <th>1</th>\n",
       "      <td>1.222589e-04</td>\n",
       "      <td>0.294963</td>\n",
       "      <td>0.412961</td>\n",
       "      <td>0.302930</td>\n",
       "      <td>0.000000</td>\n",
       "      <td>0.284011</td>\n",
       "      <td>0.750000</td>\n",
       "      <td>0.674391</td>\n",
       "      <td>0.210305</td>\n",
       "      <td>0.406826</td>\n",
       "      <td>...</td>\n",
       "      <td>0.0</td>\n",
       "      <td>0.0</td>\n",
       "      <td>0.0</td>\n",
       "      <td>0.0</td>\n",
       "      <td>0.0</td>\n",
       "      <td>0.0</td>\n",
       "      <td>7.83</td>\n",
       "      <td>1</td>\n",
       "      <td>1</td>\n",
       "      <td>1</td>\n",
       "    </tr>\n",
       "    <tr>\n",
       "      <th>2</th>\n",
       "      <td>7.987486e-05</td>\n",
       "      <td>0.256055</td>\n",
       "      <td>0.543653</td>\n",
       "      <td>0.298399</td>\n",
       "      <td>0.351609</td>\n",
       "      <td>0.274894</td>\n",
       "      <td>0.750000</td>\n",
       "      <td>0.660297</td>\n",
       "      <td>0.079877</td>\n",
       "      <td>0.553034</td>\n",
       "      <td>...</td>\n",
       "      <td>0.0</td>\n",
       "      <td>0.0</td>\n",
       "      <td>0.0</td>\n",
       "      <td>0.0</td>\n",
       "      <td>0.0</td>\n",
       "      <td>0.0</td>\n",
       "      <td>7.83</td>\n",
       "      <td>1</td>\n",
       "      <td>2</td>\n",
       "      <td>1</td>\n",
       "    </tr>\n",
       "    <tr>\n",
       "      <th>3</th>\n",
       "      <td>2.984681e-04</td>\n",
       "      <td>0.346090</td>\n",
       "      <td>0.389749</td>\n",
       "      <td>0.362881</td>\n",
       "      <td>0.495271</td>\n",
       "      <td>0.198436</td>\n",
       "      <td>0.750000</td>\n",
       "      <td>0.627896</td>\n",
       "      <td>0.152767</td>\n",
       "      <td>0.794022</td>\n",
       "      <td>...</td>\n",
       "      <td>0.0</td>\n",
       "      <td>0.0</td>\n",
       "      <td>0.0</td>\n",
       "      <td>0.0</td>\n",
       "      <td>0.0</td>\n",
       "      <td>0.0</td>\n",
       "      <td>7.83</td>\n",
       "      <td>1</td>\n",
       "      <td>3</td>\n",
       "      <td>1</td>\n",
       "    </tr>\n",
       "    <tr>\n",
       "      <th>4</th>\n",
       "      <td>1.145732e-04</td>\n",
       "      <td>0.584050</td>\n",
       "      <td>0.108225</td>\n",
       "      <td>0.294442</td>\n",
       "      <td>0.316123</td>\n",
       "      <td>0.309459</td>\n",
       "      <td>0.750000</td>\n",
       "      <td>0.518746</td>\n",
       "      <td>0.556116</td>\n",
       "      <td>0.409080</td>\n",
       "      <td>...</td>\n",
       "      <td>0.0</td>\n",
       "      <td>0.0</td>\n",
       "      <td>0.0</td>\n",
       "      <td>0.0</td>\n",
       "      <td>0.0</td>\n",
       "      <td>0.0</td>\n",
       "      <td>7.83</td>\n",
       "      <td>1</td>\n",
       "      <td>4</td>\n",
       "      <td>1</td>\n",
       "    </tr>\n",
       "    <tr>\n",
       "      <th>...</th>\n",
       "      <td>...</td>\n",
       "      <td>...</td>\n",
       "      <td>...</td>\n",
       "      <td>...</td>\n",
       "      <td>...</td>\n",
       "      <td>...</td>\n",
       "      <td>...</td>\n",
       "      <td>...</td>\n",
       "      <td>...</td>\n",
       "      <td>...</td>\n",
       "      <td>...</td>\n",
       "      <td>...</td>\n",
       "      <td>...</td>\n",
       "      <td>...</td>\n",
       "      <td>...</td>\n",
       "      <td>...</td>\n",
       "      <td>...</td>\n",
       "      <td>...</td>\n",
       "      <td>...</td>\n",
       "      <td>...</td>\n",
       "      <td>...</td>\n",
       "    </tr>\n",
       "    <tr>\n",
       "      <th>24043</th>\n",
       "      <td>4.222781e-10</td>\n",
       "      <td>0.449646</td>\n",
       "      <td>0.778307</td>\n",
       "      <td>0.344409</td>\n",
       "      <td>0.102099</td>\n",
       "      <td>0.547843</td>\n",
       "      <td>0.000000</td>\n",
       "      <td>0.400588</td>\n",
       "      <td>0.684508</td>\n",
       "      <td>0.809331</td>\n",
       "      <td>...</td>\n",
       "      <td>0.0</td>\n",
       "      <td>0.0</td>\n",
       "      <td>0.0</td>\n",
       "      <td>0.0</td>\n",
       "      <td>0.0</td>\n",
       "      <td>1.0</td>\n",
       "      <td>9.00</td>\n",
       "      <td>41</td>\n",
       "      <td>13</td>\n",
       "      <td>39</td>\n",
       "    </tr>\n",
       "    <tr>\n",
       "      <th>24044</th>\n",
       "      <td>3.903128e-10</td>\n",
       "      <td>0.734446</td>\n",
       "      <td>0.000000</td>\n",
       "      <td>0.350095</td>\n",
       "      <td>0.079309</td>\n",
       "      <td>0.470511</td>\n",
       "      <td>0.000000</td>\n",
       "      <td>0.701760</td>\n",
       "      <td>0.535743</td>\n",
       "      <td>0.499011</td>\n",
       "      <td>...</td>\n",
       "      <td>0.0</td>\n",
       "      <td>0.0</td>\n",
       "      <td>0.0</td>\n",
       "      <td>0.0</td>\n",
       "      <td>0.0</td>\n",
       "      <td>1.0</td>\n",
       "      <td>9.00</td>\n",
       "      <td>41</td>\n",
       "      <td>14</td>\n",
       "      <td>39</td>\n",
       "    </tr>\n",
       "    <tr>\n",
       "      <th>24045</th>\n",
       "      <td>1.437144e-09</td>\n",
       "      <td>0.838142</td>\n",
       "      <td>0.700925</td>\n",
       "      <td>0.440958</td>\n",
       "      <td>0.058883</td>\n",
       "      <td>0.283860</td>\n",
       "      <td>0.000000</td>\n",
       "      <td>0.000000</td>\n",
       "      <td>0.186631</td>\n",
       "      <td>0.140640</td>\n",
       "      <td>...</td>\n",
       "      <td>0.0</td>\n",
       "      <td>0.0</td>\n",
       "      <td>0.0</td>\n",
       "      <td>0.0</td>\n",
       "      <td>0.0</td>\n",
       "      <td>1.0</td>\n",
       "      <td>9.00</td>\n",
       "      <td>41</td>\n",
       "      <td>15</td>\n",
       "      <td>39</td>\n",
       "    </tr>\n",
       "    <tr>\n",
       "      <th>24046</th>\n",
       "      <td>5.283381e-10</td>\n",
       "      <td>0.836981</td>\n",
       "      <td>0.838758</td>\n",
       "      <td>0.361852</td>\n",
       "      <td>0.079258</td>\n",
       "      <td>0.480124</td>\n",
       "      <td>0.000000</td>\n",
       "      <td>0.755741</td>\n",
       "      <td>0.309949</td>\n",
       "      <td>0.800837</td>\n",
       "      <td>...</td>\n",
       "      <td>0.0</td>\n",
       "      <td>0.0</td>\n",
       "      <td>0.0</td>\n",
       "      <td>0.0</td>\n",
       "      <td>0.0</td>\n",
       "      <td>1.0</td>\n",
       "      <td>9.00</td>\n",
       "      <td>41</td>\n",
       "      <td>16</td>\n",
       "      <td>39</td>\n",
       "    </tr>\n",
       "    <tr>\n",
       "      <th>24047</th>\n",
       "      <td>4.782216e-10</td>\n",
       "      <td>0.500257</td>\n",
       "      <td>0.595310</td>\n",
       "      <td>0.238823</td>\n",
       "      <td>0.015301</td>\n",
       "      <td>0.669948</td>\n",
       "      <td>0.000000</td>\n",
       "      <td>0.791737</td>\n",
       "      <td>0.034436</td>\n",
       "      <td>0.549907</td>\n",
       "      <td>...</td>\n",
       "      <td>0.0</td>\n",
       "      <td>0.0</td>\n",
       "      <td>0.0</td>\n",
       "      <td>0.0</td>\n",
       "      <td>0.0</td>\n",
       "      <td>1.0</td>\n",
       "      <td>9.00</td>\n",
       "      <td>41</td>\n",
       "      <td>17</td>\n",
       "      <td>39</td>\n",
       "    </tr>\n",
       "  </tbody>\n",
       "</table>\n",
       "<p>24048 rows × 265 columns</p>\n",
       "</div>"
      ],
      "text/plain": [
       "       teager_kaiser_energy_6mean  time_corr_F8  max_cross_corr_C4  \\\n",
       "0                    1.116430e-04      0.218165           0.516112   \n",
       "1                    1.222589e-04      0.294963           0.412961   \n",
       "2                    7.987486e-05      0.256055           0.543653   \n",
       "3                    2.984681e-04      0.346090           0.389749   \n",
       "4                    1.145732e-04      0.584050           0.108225   \n",
       "...                           ...           ...                ...   \n",
       "24043                4.222781e-10      0.449646           0.778307   \n",
       "24044                3.903128e-10      0.734446           0.000000   \n",
       "24045                1.437144e-09      0.838142           0.700925   \n",
       "24046                5.283381e-10      0.836981           0.838758   \n",
       "24047                4.782216e-10      0.500257           0.595310   \n",
       "\n",
       "       fractal_katz  phase_lock_val_F3  fisher_information  decorr_time  \\\n",
       "0          0.363249           0.549476            0.279508     0.744318   \n",
       "1          0.302930           0.000000            0.284011     0.750000   \n",
       "2          0.298399           0.351609            0.274894     0.750000   \n",
       "3          0.362881           0.495271            0.198436     0.750000   \n",
       "4          0.294442           0.316123            0.309459     0.750000   \n",
       "...             ...                ...                 ...          ...   \n",
       "24043      0.344409           0.102099            0.547843     0.000000   \n",
       "24044      0.350095           0.079309            0.470511     0.000000   \n",
       "24045      0.440958           0.058883            0.283860     0.000000   \n",
       "24046      0.361852           0.079258            0.480124     0.000000   \n",
       "24047      0.238823           0.015301            0.669948     0.000000   \n",
       "\n",
       "       max_cross_corr_T8  max_cross_corr_P3  spect_corr_C4  ...  Subj_34  \\\n",
       "0               0.788015           0.427071       0.295006  ...      0.0   \n",
       "1               0.674391           0.210305       0.406826  ...      0.0   \n",
       "2               0.660297           0.079877       0.553034  ...      0.0   \n",
       "3               0.627896           0.152767       0.794022  ...      0.0   \n",
       "4               0.518746           0.556116       0.409080  ...      0.0   \n",
       "...                  ...                ...            ...  ...      ...   \n",
       "24043           0.400588           0.684508       0.809331  ...      0.0   \n",
       "24044           0.701760           0.535743       0.499011  ...      0.0   \n",
       "24045           0.000000           0.186631       0.140640  ...      0.0   \n",
       "24046           0.755741           0.309949       0.800837  ...      0.0   \n",
       "24047           0.791737           0.034436       0.549907  ...      0.0   \n",
       "\n",
       "       Subj_35  Subj_36  Subj_37  Subj_38  Subj_39  labels  film  ch  Subj  \n",
       "0          0.0      0.0      0.0      0.0      0.0    7.83     1   0     1  \n",
       "1          0.0      0.0      0.0      0.0      0.0    7.83     1   1     1  \n",
       "2          0.0      0.0      0.0      0.0      0.0    7.83     1   2     1  \n",
       "3          0.0      0.0      0.0      0.0      0.0    7.83     1   3     1  \n",
       "4          0.0      0.0      0.0      0.0      0.0    7.83     1   4     1  \n",
       "...        ...      ...      ...      ...      ...     ...   ...  ..   ...  \n",
       "24043      0.0      0.0      0.0      0.0      1.0    9.00    41  13    39  \n",
       "24044      0.0      0.0      0.0      0.0      1.0    9.00    41  14    39  \n",
       "24045      0.0      0.0      0.0      0.0      1.0    9.00    41  15    39  \n",
       "24046      0.0      0.0      0.0      0.0      1.0    9.00    41  16    39  \n",
       "24047      0.0      0.0      0.0      0.0      1.0    9.00    41  17    39  \n",
       "\n",
       "[24048 rows x 265 columns]"
      ]
     },
     "execution_count": 39,
     "metadata": {},
     "output_type": "execute_result"
    }
   ],
   "source": [
    "data_not_processed = pd.read_csv('Features_no_filtering_ordered.csv')\n",
    "data_not_processed"
   ]
  },
  {
   "cell_type": "code",
   "execution_count": 4,
   "id": "d48ed508",
   "metadata": {},
   "outputs": [],
   "source": [
    "param_grid = {\n",
    "    'alpha' : [0.001, 0.01, 0.1, 1, 10, 100, 1000],\n",
    "    'max_iter' : [1000],\n",
    "}"
   ]
  },
  {
   "cell_type": "code",
   "execution_count": 5,
   "id": "26cba711",
   "metadata": {},
   "outputs": [],
   "source": [
    "mlp = MLPRegressor()"
   ]
  },
  {
   "cell_type": "code",
   "execution_count": 6,
   "id": "ee94f7a0",
   "metadata": {},
   "outputs": [],
   "source": [
    "X = data_not_processed.drop(['labels'] ,axis=1)\n",
    "y = data_not_processed['labels']"
   ]
  },
  {
   "cell_type": "code",
   "execution_count": 7,
   "id": "51c25a86",
   "metadata": {},
   "outputs": [],
   "source": [
    "grid = GridSearchCV(mlp, param_grid, verbose=4, cv=2)"
   ]
  },
  {
   "cell_type": "code",
   "execution_count": 8,
   "id": "630778f3",
   "metadata": {},
   "outputs": [
    {
     "name": "stdout",
     "output_type": "stream",
     "text": [
      "Fitting 2 folds for each of 7 candidates, totalling 14 fits\n",
      "[CV 1/2] END .......alpha=0.001, max_iter=1000;, score=-0.165 total time=  37.2s\n",
      "[CV 2/2] END .......alpha=0.001, max_iter=1000;, score=-0.466 total time=  35.4s\n",
      "[CV 1/2] END ........alpha=0.01, max_iter=1000;, score=-2.281 total time=  49.7s\n",
      "[CV 2/2] END ........alpha=0.01, max_iter=1000;, score=-1.686 total time=  45.2s\n",
      "[CV 1/2] END .........alpha=0.1, max_iter=1000;, score=-0.614 total time=  47.0s\n",
      "[CV 2/2] END .........alpha=0.1, max_iter=1000;, score=-0.563 total time=  39.5s\n",
      "[CV 1/2] END ...........alpha=1, max_iter=1000;, score=-0.208 total time=  45.0s\n",
      "[CV 2/2] END ...........alpha=1, max_iter=1000;, score=-0.145 total time=  43.3s\n",
      "[CV 1/2] END ..........alpha=10, max_iter=1000;, score=-0.018 total time=  15.2s\n",
      "[CV 2/2] END ...........alpha=10, max_iter=1000;, score=0.184 total time=  13.3s\n",
      "[CV 1/2] END .........alpha=100, max_iter=1000;, score=-0.259 total time=  29.4s\n",
      "[CV 2/2] END .........alpha=100, max_iter=1000;, score=-0.125 total time=  26.7s\n",
      "[CV 1/2] END .........alpha=1000, max_iter=1000;, score=0.096 total time=  20.2s\n",
      "[CV 2/2] END .........alpha=1000, max_iter=1000;, score=0.097 total time=  25.1s\n"
     ]
    },
    {
     "data": {
      "text/plain": [
       "GridSearchCV(cv=2, estimator=MLPRegressor(),\n",
       "             param_grid={'alpha': [0.001, 0.01, 0.1, 1, 10, 100, 1000],\n",
       "                         'max_iter': [1000]},\n",
       "             verbose=4)"
      ]
     },
     "execution_count": 8,
     "metadata": {},
     "output_type": "execute_result"
    }
   ],
   "source": [
    "grid.fit(X, y)"
   ]
  },
  {
   "cell_type": "code",
   "execution_count": 9,
   "id": "ccc514d1",
   "metadata": {},
   "outputs": [
    {
     "data": {
      "text/plain": [
       "1000"
      ]
     },
     "execution_count": 9,
     "metadata": {},
     "output_type": "execute_result"
    }
   ],
   "source": [
    "grid.best_params_[\"alpha\"]"
   ]
  },
  {
   "cell_type": "code",
   "execution_count": 68,
   "id": "9abbb923",
   "metadata": {},
   "outputs": [],
   "source": [
    "X_test = data_not_processed.loc[(data_not_processed['film'] == 41)].reset_index(drop=True)\n",
    "X_train = data_not_processed.loc[(data_not_processed['film'] != 41)].reset_index(drop=True)\n",
    "X_train = X_train.sample(frac=1)\n",
    "X_test = X_test.sample(frac=1)\n",
    "\n",
    "y_train = X_train['labels']\n",
    "y_test = X_test['labels']\n",
    "train_film = X_train['film']\n",
    "train_subj = X_train['Subj']\n",
    "train_ch = X_train['ch']\n",
    "test_film = X_test['film']\n",
    "test_subj = X_test['Subj']\n",
    "test_ch = np.array(X_test['ch'])\n",
    "\n",
    "X_train = X_train.drop(['film', 'ch', 'Subj', 'labels'], axis=1)\n",
    "X_test = X_test.drop(['film', 'ch', 'Subj', 'labels'], axis=1)"
   ]
  },
  {
   "cell_type": "code",
   "execution_count": 11,
   "id": "4d3020a7",
   "metadata": {},
   "outputs": [],
   "source": [
    "preds = MLPRegressor(alpha=1000, max_iter=1000).fit(X_train, y_train).predict(X_test)"
   ]
  },
  {
   "cell_type": "code",
   "execution_count": 14,
   "id": "3e90742c",
   "metadata": {},
   "outputs": [],
   "source": [
    "from sklearn.metrics import mean_absolute_error, r2_score, mean_absolute_percentage_error"
   ]
  },
  {
   "cell_type": "code",
   "execution_count": 16,
   "id": "726e8c2a",
   "metadata": {},
   "outputs": [
    {
     "name": "stdout",
     "output_type": "stream",
     "text": [
      "r2: -0.8538315527693034\n",
      "MAPE: 0.3946519744544896\n",
      "MAE :  2.8381278461216923\n"
     ]
    }
   ],
   "source": [
    "print('r2:', r2_score(y_test, preds))\n",
    "print('MAPE:', mean_absolute_percentage_error(y_test, preds))\n",
    "print('MAE : ', mean_absolute_error(y_test, preds))"
   ]
  },
  {
   "cell_type": "code",
   "execution_count": 17,
   "id": "391abc14",
   "metadata": {},
   "outputs": [
    {
     "name": "stderr",
     "output_type": "stream",
     "text": [
      "<ipython-input-17-373309886a93>:12: RuntimeWarning: invalid value encountered in true_divide\n",
      "  labels = np.array(labels).astype(np.float64) / np.array(num_chans).astype(np.float64)\n",
      "<ipython-input-17-373309886a93>:13: RuntimeWarning: invalid value encountered in true_divide\n",
      "  pred = np.array(pred).astype(np.float64) / np.array(num_chans).astype(np.float64)\n"
     ]
    }
   ],
   "source": [
    "chans = ['Fz', 'F3', 'F7','C3', 'T7', 'Pz', 'P3','P7', 'O1', 'Oz', 'O2','P4', 'P8', 'Cz','C4', 'T8', 'F4', 'F8']\n",
    "pred = [[0 for j in range(8)] for i in range(42)]\n",
    "num_chans = [[0 for j in range(8)] for i in range(42)]\n",
    "labels = [[0 for j in range(8)] for i in range(42)]\n",
    "lbl = [[0 for j in range(8)] for i in range(42)]\n",
    "channels = [[] for i in range(40)]\n",
    "for i in range(len(preds)):\n",
    "    pred[np.array(test_subj)[i]][np.array(test_film)[i] - 41] += np.array(preds)[i]\n",
    "    num_chans[np.array(test_subj)[i]][np.array(test_film)[i] - 41] += 1\n",
    "    labels[np.array(test_subj)[i]][np.array(test_film)[i] - 41] += np.array(y_test)[i]\n",
    "    channels[np.array(test_subj)[i]].append(chans[test_ch[i]])\n",
    "labels = np.array(labels).astype(np.float64) / np.array(num_chans).astype(np.float64)\n",
    "pred = np.array(pred).astype(np.float64) / np.array(num_chans).astype(np.float64)\n",
    "labels = np.nan_to_num(labels)\n",
    "pred = np.nan_to_num(pred)\n",
    "predicted = []\n",
    "lbl = []\n",
    "for i in range(len(labels)):\n",
    "    if sum(labels[i]) != 0:\n",
    "        for j in range(8):\n",
    "            if labels[i][j] != 0:\n",
    "                lbl.append(labels[i][j])  \n",
    "                predicted.append(pred[i][j])"
   ]
  },
  {
   "cell_type": "code",
   "execution_count": 18,
   "id": "72acfed7",
   "metadata": {},
   "outputs": [
    {
     "name": "stdout",
     "output_type": "stream",
     "text": [
      "label : 10.00 predicted: 5.43 \n",
      "label : 10.00 predicted: 5.43 \n",
      "label : 6.00 predicted: 5.43 \n",
      "label : 8.00 predicted: 5.43 \n",
      "label : 3.00 predicted: 5.43 \n",
      "label : 7.00 predicted: 5.43 \n",
      "label : 9.00 predicted: 5.43 \n"
     ]
    }
   ],
   "source": [
    "for [l, p] in zip(lbl, predicted):\n",
    "    print('label : {:0.2f} predicted: {:0.2f} '.format(l, p))"
   ]
  },
  {
   "cell_type": "code",
   "execution_count": 19,
   "id": "fdf48076",
   "metadata": {},
   "outputs": [
    {
     "name": "stdout",
     "output_type": "stream",
     "text": [
      "r2: -0.8538315522682742\n",
      "MAPE: 0.3946519744544896\n",
      "MAE: 2.8381278461216928\n"
     ]
    }
   ],
   "source": [
    "print('r2:', r2_score(lbl, predicted))\n",
    "print('MAPE:', mean_absolute_percentage_error(lbl, predicted))\n",
    "print('MAE:', mean_absolute_error(lbl ,predicted))"
   ]
  },
  {
   "cell_type": "markdown",
   "id": "82070559",
   "metadata": {},
   "source": [
    "## Попробуем применить QuantileTransformer"
   ]
  },
  {
   "cell_type": "code",
   "execution_count": 59,
   "id": "72759c37",
   "metadata": {},
   "outputs": [],
   "source": [
    "from sklearn.preprocessing import QuantileTransformer"
   ]
  },
  {
   "cell_type": "code",
   "execution_count": 69,
   "id": "5425f3c7",
   "metadata": {},
   "outputs": [
    {
     "name": "stderr",
     "output_type": "stream",
     "text": [
      "C:\\Users\\po6wi\\anaconda3\\lib\\site-packages\\sklearn\\preprocessing\\_data.py:2590: UserWarning: n_quantiles (1000) is greater than the total number of samples (126). n_quantiles is set to n_samples.\n",
      "  warnings.warn(\n"
     ]
    }
   ],
   "source": [
    "qt_train = QuantileTransformer(output_distribution='normal',\n",
    "                         copy=True)\n",
    "y_train = qt_train.fit_transform(np.array(y_train).reshape(-1, 1))\n",
    "qt_test = QuantileTransformer(output_distribution='normal',\n",
    "                         copy=True)\n",
    "y_test = qt_test.fit_transform(np.array(y_test).reshape(-1, 1))"
   ]
  },
  {
   "cell_type": "code",
   "execution_count": 70,
   "id": "571d50d9",
   "metadata": {},
   "outputs": [],
   "source": [
    "model = MLPRegressor(random_state = 1, max_iter=1000).fit(X_train, y_train.reshape(-1))\n",
    "y_pred = model.predict(X_test)"
   ]
  },
  {
   "cell_type": "code",
   "execution_count": 71,
   "id": "f174e98d",
   "metadata": {},
   "outputs": [],
   "source": [
    "preds = qt_test.inverse_transform(preds.reshape(-1, 1))"
   ]
  },
  {
   "cell_type": "code",
   "execution_count": 72,
   "id": "6b537dd7",
   "metadata": {},
   "outputs": [],
   "source": [
    "y_test = qt_test.inverse_transform(np.array(y_test).reshape(-1, 1))"
   ]
  },
  {
   "cell_type": "code",
   "execution_count": null,
   "id": "056c83bc",
   "metadata": {},
   "outputs": [],
   "source": [
    "preds"
   ]
  },
  {
   "cell_type": "code",
   "execution_count": 35,
   "id": "fc5245ef",
   "metadata": {},
   "outputs": [
    {
     "name": "stderr",
     "output_type": "stream",
     "text": [
      "<ipython-input-35-373309886a93>:12: VisibleDeprecationWarning: Creating an ndarray from ragged nested sequences (which is a list-or-tuple of lists-or-tuples-or ndarrays with different lengths or shapes) is deprecated. If you meant to do this, you must specify 'dtype=object' when creating the ndarray.\n",
      "  labels = np.array(labels).astype(np.float64) / np.array(num_chans).astype(np.float64)\n",
      "<ipython-input-35-373309886a93>:12: RuntimeWarning: invalid value encountered in true_divide\n",
      "  labels = np.array(labels).astype(np.float64) / np.array(num_chans).astype(np.float64)\n",
      "<ipython-input-35-373309886a93>:13: VisibleDeprecationWarning: Creating an ndarray from ragged nested sequences (which is a list-or-tuple of lists-or-tuples-or ndarrays with different lengths or shapes) is deprecated. If you meant to do this, you must specify 'dtype=object' when creating the ndarray.\n",
      "  pred = np.array(pred).astype(np.float64) / np.array(num_chans).astype(np.float64)\n",
      "<ipython-input-35-373309886a93>:13: RuntimeWarning: invalid value encountered in true_divide\n",
      "  pred = np.array(pred).astype(np.float64) / np.array(num_chans).astype(np.float64)\n"
     ]
    }
   ],
   "source": [
    "chans = ['Fz', 'F3', 'F7','C3', 'T7', 'Pz', 'P3','P7', 'O1', 'Oz', 'O2','P4', 'P8', 'Cz','C4', 'T8', 'F4', 'F8']\n",
    "pred = [[0 for j in range(8)] for i in range(42)]\n",
    "num_chans = [[0 for j in range(8)] for i in range(42)]\n",
    "labels = [[0 for j in range(8)] for i in range(42)]\n",
    "lbl = [[0 for j in range(8)] for i in range(42)]\n",
    "channels = [[] for i in range(40)]\n",
    "for i in range(len(preds)):\n",
    "    pred[np.array(test_subj)[i]][np.array(test_film)[i] - 41] += np.array(preds)[i]\n",
    "    num_chans[np.array(test_subj)[i]][np.array(test_film)[i] - 41] += 1\n",
    "    labels[np.array(test_subj)[i]][np.array(test_film)[i] - 41] += np.array(y_test)[i]\n",
    "    channels[np.array(test_subj)[i]].append(chans[test_ch[i]])\n",
    "labels = np.array(labels).astype(np.float64) / np.array(num_chans).astype(np.float64)\n",
    "pred = np.array(pred).astype(np.float64) / np.array(num_chans).astype(np.float64)\n",
    "labels = np.nan_to_num(labels)\n",
    "pred = np.nan_to_num(pred)\n",
    "predicted = []\n",
    "lbl = []\n",
    "for i in range(len(labels)):\n",
    "    if sum(labels[i]) != 0:\n",
    "        for j in range(8):\n",
    "            if labels[i][j] != 0:\n",
    "                lbl.append(labels[i][j])  \n",
    "                predicted.append(pred[i][j])"
   ]
  },
  {
   "cell_type": "code",
   "execution_count": 36,
   "id": "48cd0f3b",
   "metadata": {},
   "outputs": [
    {
     "name": "stdout",
     "output_type": "stream",
     "text": [
      "label : 10.00 predicted: 7.64 \n",
      "label : 10.00 predicted: 7.64 \n",
      "label : 6.00 predicted: 7.64 \n",
      "label : 8.00 predicted: 7.64 \n",
      "label : 3.00 predicted: 7.64 \n",
      "label : 7.00 predicted: 7.64 \n",
      "label : 9.00 predicted: 7.64 \n"
     ]
    }
   ],
   "source": [
    "for [l, p] in zip(lbl, predicted):\n",
    "    print('label : {:0.2f} predicted: {:0.2f} '.format(l, p))"
   ]
  },
  {
   "cell_type": "code",
   "execution_count": null,
   "id": "899165fc",
   "metadata": {},
   "outputs": [],
   "source": []
  }
 ],
 "metadata": {
  "kernelspec": {
   "display_name": "Python 3",
   "language": "python",
   "name": "python3"
  },
  "language_info": {
   "codemirror_mode": {
    "name": "ipython",
    "version": 3
   },
   "file_extension": ".py",
   "mimetype": "text/x-python",
   "name": "python",
   "nbconvert_exporter": "python",
   "pygments_lexer": "ipython3",
   "version": "3.8.8"
  }
 },
 "nbformat": 4,
 "nbformat_minor": 5
}
