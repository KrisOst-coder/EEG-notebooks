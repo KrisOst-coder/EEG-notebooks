{
 "cells": [
  {
   "cell_type": "markdown",
   "id": "5764d682",
   "metadata": {},
   "source": [
    "## Deap\n"
   ]
  },
  {
   "cell_type": "markdown",
   "id": "d0df8426",
   "metadata": {},
   "source": [
    "Библиотека Neurokit2"
   ]
  },
  {
   "cell_type": "code",
   "execution_count": 9,
   "id": "76040f8f",
   "metadata": {},
   "outputs": [],
   "source": [
    "import mne\n",
    "import os\n",
    "from tqdm import tqdm_notebook\n",
    "import neurokit2 as nk\n",
    "import numpy as np\n",
    "import pickle\n",
    "import yasa"
   ]
  },
  {
   "cell_type": "markdown",
   "id": "7629d77e",
   "metadata": {},
   "source": [
    "Порядок каналов из архива"
   ]
  },
  {
   "cell_type": "markdown",
   "id": "f478533d",
   "metadata": {},
   "source": [
    "http://www.eecs.qmul.ac.uk/mmv/datasets/deap/readme.html\n",
    "\n",
    "data\t40 x 40 x 8064\tvideo/trial x channel x data\n",
    "\n",
    "labels\t40 x 4\tvideo/trial x label (valence, arousal, dominance, liking)"
   ]
  },
  {
   "cell_type": "markdown",
   "id": "3e1ab601",
   "metadata": {},
   "source": [
    "Описание функции nk.complexity()\n",
    "https://neurokit2.readthedocs.io/en/latest/functions.html#module-neurokit2.complexity"
   ]
  },
  {
   "cell_type": "code",
   "execution_count": null,
   "id": "f8bc9d43",
   "metadata": {},
   "outputs": [],
   "source": [
    "n_subjects = 32\n",
    "n_films = 40\n",
    "n_channels = 18\n",
    "ch_order = [18,    2,    3,   6,    7,    15,   10,  11,   13,   14,   31,  28,   29,   23,  24,   25,   19,    20]\n",
    "ch_names = ['Fz', 'F3', 'F7','C3', 'T7', 'Pz', 'P3','P7', 'O1', 'Oz', 'O2','P4', 'P8', 'Cz','C4', 'T8', 'F4', 'F8']\n",
    "for Subject in tqdm_notebook(range(1 , n_subjects + 1)):\n",
    "    Subject = ('0' + str(Subject)) if Subject < 10 else str(Subject)\n",
    "    raw = pickle.load(open('G:/Мой диск/Research/DEAP/s{}.dat'.foramt(Subject), 'rb'), encoding='latin1')\n",
    "    for film in tqdm_notebook(range(n_films)):\n",
    "        for channel in tqdm_notebook(range(n_channels)):\n",
    "            if os.path.isfile('G:/Мой диск/Research/features_deap_neurokit/S_{}_F_{}_{}_.xlsx'.format(Subject, film, ch_names[channel])):\n",
    "                continue\n",
    "            # Просмотр начинается с 384 сэмпла\n",
    "            df, info = nk.complexity(raw['data'][film][ch_order[channel]][384:], which = ['fast', 'medium'])\n",
    "            df['Subj'] =  Subj\n",
    "            df['film'] = film\n",
    "            df['ch'] = ch_names[channel]\n",
    "            df['labels'] = raw['labels'][film][3]\n",
    "            df.to_excel('G:/Мой диск/Research/Project2022/features_deap_40_128_neurokit/S_{}_F_{}_{}_.xlsx'.format(Subject, film, ch_names[channel]), index=False)"
   ]
  },
  {
   "cell_type": "markdown",
   "id": "415a5707",
   "metadata": {},
   "source": [
    "## Испытуемые из лаборатории"
   ]
  },
  {
   "cell_type": "markdown",
   "id": "4a2281f5",
   "metadata": {},
   "source": [
    "Neurokit2"
   ]
  },
  {
   "cell_type": "markdown",
   "id": "076e808e",
   "metadata": {},
   "source": [
    "Рейтинги : по стобцам фильмы, по строчкам испытуемые. У 11 исп. отсутсвуют два рейтинга."
   ]
  },
  {
   "cell_type": "code",
   "execution_count": 6,
   "id": "60a66323",
   "metadata": {},
   "outputs": [],
   "source": [
    "ratings = np.array(\n",
    "       [\n",
    "       [10., 10.,  2.,  5.,  9.,  9.,  5.,  9.],\n",
    "       [10.,  8.,  7.,  9.,  7.,  6.,  6.,  9.],\n",
    "       [ 6.,  3.,  5.,  6.,  5.,  5.,  5.,  2.],\n",
    "       [ 8.,  6.,  5.,  9.,  5.,  7.,  4.,  6.],\n",
    "       [ 3.,  2.,  4.,  1.,  7.,  3.,  7.,  2.],\n",
    "       [ 7.,  7.,  2.,  8.,  5.,  3.,  2.,  5.],\n",
    "       [ 9.,  4.,  4.,  3.,  9.,  8.,  8.,  5.],\n",
    "       [ 5.,  7.,  5.,  9.,  3.,  2.,  8.,  7.],\n",
    "       [ 8.,  8.,  2.,  3.,  7.,  5.,  5.,  9.],\n",
    "       [ 3.,  8.,  7.,  3.,  1.,  3.,  6.,  2.],\n",
    "       [ 8., np.nan,  3.,  5.,  8., np.nan,  6.,  4.],\n",
    "       [10.,  5.,  6.,  9., 10.,  7.,  8.,  2.]\n",
    "       ]\n",
    ")"
   ]
  },
  {
   "cell_type": "code",
   "execution_count": null,
   "id": "141c8d3c",
   "metadata": {},
   "outputs": [],
   "source": [
    "n_subjects = 12\n",
    "n_films = 8\n",
    "n_channels = 18\n",
    "channel_names = ['Fz', 'F3', 'F7','C3', 'T7', 'Pz', 'P3','P7', 'O1', 'Oz', 'O2','P4', 'P8', 'Cz','C4', 'T8', 'F4', 'F8']\n",
    "for Subject in tqdm_notebook(range(1, n_subjects + 1)):\n",
    "    for film in tqdm_notebook(range(1, n_films + 1)):\n",
    "        if not os.path.isfile('G:/Мой диск/Research/Project2022/Cuts_filtered_40_128/{}/filtered_watch_{}.fif'.format(Subject, film)):\n",
    "            continue\n",
    "\n",
    "        # читаем просмотр из файла\n",
    "        \n",
    "        raw = mne.io.read_raw('G:/Мой диск/Research/Project2022/Cuts_filtered_40_128/{}/filtered_watch_{}.fif'.format(Subject, film))\n",
    "        \n",
    "        #удаляем ненужные каналы\n",
    "        \n",
    "        if 'VEOG' in raw.ch_names:\n",
    "            raw.drop_channels(['VEOG'])\n",
    "        if 'STI' in raw.ch_names:\n",
    "            raw.drop_channels(['STI'])\n",
    "        raw.drop_channels(['Pulse', 'Zygom', 'Corr', 'EDA', 'Mark'])\n",
    "        \n",
    "        for channel in tqdm_notebook(channel_names):\n",
    "            if os.path.isfile('G:/Мой диск/Research/Project2022/features_40_128_neurokit/S_{}_F_{}_{}_.xlsx'.format(Subject, film, channel)):\n",
    "                continue\n",
    "            df, info = nk.complexity(raw[channel][0][0], which = ['fast', 'medium'])\n",
    "            df['Subj'] =  Subject\n",
    "            df['film'] = film\n",
    "            df['ch'] = channel\n",
    "            df['labels'] = ratings[i][j]\n",
    "            df.to_excel('G:/Мой диск/Research/Project2022/features_40_128_neurokit/S_{}_F_{}_{}_.xlsx'.format(Subject, film, channel), index=False)"
   ]
  },
  {
   "cell_type": "markdown",
   "id": "de1776e0",
   "metadata": {},
   "source": [
    "Мощности частот (библиотека Yasa) https://raphaelvallat.com/yasa/build/html/generated/yasa.bandpower_from_psd.html?highlight=bandpower#yasa.bandpower_from_psd"
   ]
  },
  {
   "cell_type": "markdown",
   "id": "71dca103",
   "metadata": {},
   "source": [
    "Мы добавляем построчно каждый из каналов"
   ]
  },
  {
   "cell_type": "code",
   "execution_count": null,
   "id": "020e174a",
   "metadata": {},
   "outputs": [],
   "source": [
    "n_subjects = 12\n",
    "n_films = 8\n",
    "n_channels = 18\n",
    "channel_names = ['Fz', 'F3', 'F7','C3', 'T7', 'Pz', 'P3','P7', 'O1', 'Oz', 'O2','P4', 'P8', 'Cz','C4', 'T8', 'F4', 'F8']\n",
    "for Subject in tqdm_notebook(range(n_subjects)):\n",
    "    frames = []\n",
    "    frames_rel = []\n",
    "    for film in tqdm_notebook(range(n_films)):\n",
    "        if not os.path.isfile('G:/Мой диск/Research/Project2022/Cuts_filtered_40_128/{}/filtered_relax_before_{}.fif'.format(Subject, film)):\n",
    "            continue\n",
    "        relax = mne.io.read_raw('G:/Мой диск/Research/Project2022/Cuts_filtered_40_128/{}/filtered_relax_before_{}.fif'.format(Subject, film))\n",
    "        watch = mne.io.read_raw('G:/Мой диск/Research/Project2022/Cuts_filtered_40_128/{}/filtered_watch_{}.fif'.format(Subject, film))\n",
    "        \n",
    "        sf = relax.info['sfreq']\n",
    "        win = int(4 * sf)\n",
    "        \n",
    "        if 'VEOG' in relax.ch_names:\n",
    "            relax.drop_channels(['VEOG'])\n",
    "            watch.drop_channels(['VEOG'])\n",
    "        if 'STI' in relax.ch_names:\n",
    "            relax.drop_channels(['STI'])\n",
    "            watch.drop_channels(['STI'])\n",
    "        relax.drop_channels(['Pulse', 'Zygom', 'Corr', 'EDA', 'Mark'])\n",
    "        watch.drop_channels(['Pulse', 'Zygom', 'Corr', 'EDA', 'Mark'])\n",
    "        \n",
    "\n",
    "        freqs_relax, psd_relax = welch(relax.get_data(), sf, nperseg=win, average='median')\n",
    "        freqs_watch, psd_watch = welch(watch.get_data(), sf, nperseg=win, average='median')\n",
    "        \n",
    "        bp_relax = yasa.bandpower_from_psd(psd_relax, freqs_relax, channel_names, bands=\n",
    "                                   [(4, 8, 'Theta'), (8, 12, 'Alpha'), (12, 30, 'Beta')], relative=False).drop(columns=['FreqRes', 'Relative', 'TotalAbsPow'])\n",
    "        bp_watch = yasa.bandpower_from_psd(psd_watch, freqs_watch, channel_names, bands=\n",
    "                                   [(4, 8, 'Theta'), (8, 12, 'Alpha'), (12, 30, 'Beta')], relative=False).drop(columns=['FreqRes', 'Relative', 'TotalAbsPow'])\n",
    "        bp_ratio_relax = yasa.bandpower(relax, relax.info['sfreq'], bands=\n",
    "                                   [(4, 8, 'Theta_ratio'), (8, 12, 'Alpha_ratio'), (12, 30, 'Beta_ratio')], relative=True).drop(columns=['FreqRes', 'Relative'])\n",
    "        bp_ratio_watch = yasa.bandpower(watch, watch.info['sfreq'], bands=\n",
    "                                   [(4, 8, 'Theta_ratio'), (8, 12, 'Alpha_ratio'), (12, 30, 'Beta_ratio')], relative=True).drop(columns=['FreqRes', 'Relative'])\n",
    "\n",
    "        for channel in tqdm_notebook(range(n_channels)):\n",
    "            df_relax = pd.DataFrame(bp_relax.loc[channel]).transpose()\n",
    "            df_watch = pd.DataFrame(bp_watch.loc[channel]).transpose()\n",
    "            dr = pd.DataFrame(p_relax.loc[relax.ch_names[channel]]).transpose()\n",
    "            dr.rename(index={relax.ch_names[channel]:channel}, inplace=True)\n",
    "            df_relax = df_relax.join(dr)\n",
    "            dw = pd.DataFrame(p_watch.loc[watch.ch_names[channel]]).transpose()\n",
    "            dw.rename(index={relax.ch_names[channel]:channel}, inplace=True)\n",
    "            df_watch = df_watch.join(dw)\n",
    "            df_relax.rename(index={channel:'F' + film + '_relax'}, inplace=True)\n",
    "            df_watch.rename(index={channel:'F' + film + '_watch'}, inplace=True)\n",
    "\n",
    "            df_rel = {\n",
    "                'Theta_watch-relax' : float(df_watch['Theta']) - float(df_relax['Theta']),\n",
    "                'Alpha_watch-relax' : float(df_watch['Alpha']) - float(df_relax['Alpha']),\n",
    "                'Beta_watch-relax' : float(df_watch['Beta']) - float(df_relax['Beta']),\n",
    "            }\n",
    "            df_rel = pd.DataFrame(df_rel, index=['F' + film + '_' + watch.ch_names[j]])\n",
    "            df_div = {\n",
    "                'Beta/Alpha' : float(df_rel['Beta_watch-relax']) / float(df_rel['Alpha_watch-relax']),\n",
    "                'Beta/(Alpha + Theta)' : float(df_rel['Beta_watch-relax']) / (float(df_rel['Alpha_watch-relax'] + float(df_rel['Theta_watch-relax']))),\n",
    "            }\n",
    "            df_div = pd.DataFrame(df_div, index=['F' + film + '_' + watch.ch_names[channel]])\n",
    "            df_all = df_rel.join(df_div)\n",
    "            frames_rel.append(df_all)\n",
    "            frames.append(df_relax)\n",
    "            frames.append(df_watch)\n",
    "\n",
    "    result_rel = pd.concat(frames_rel)\n",
    "    result_rel.to_excel('G:/Мой диск/Research/Project2022/features_yasa/S' + Subject + '_ratio.xlsx')\n",
    "    result = pd.concat(frames)\n",
    "    result.to_excel('G:/Мой диск/Research/Project2022/features_yasa/S' + Subject + '.xlsx')"
   ]
  }
 ],
 "metadata": {
  "kernelspec": {
   "display_name": "Python 3",
   "language": "python",
   "name": "python3"
  },
  "language_info": {
   "codemirror_mode": {
    "name": "ipython",
    "version": 3
   },
   "file_extension": ".py",
   "mimetype": "text/x-python",
   "name": "python",
   "nbconvert_exporter": "python",
   "pygments_lexer": "ipython3",
   "version": "3.8.8"
  }
 },
 "nbformat": 4,
 "nbformat_minor": 5
}
