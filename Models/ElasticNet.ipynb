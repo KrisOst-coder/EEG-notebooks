{
 "cells": [
  {
   "cell_type": "code",
   "execution_count": 95,
   "id": "41206318",
   "metadata": {},
   "outputs": [],
   "source": [
    "import pandas as pd\n",
    "import numpy as np\n",
    "import warnings\n",
    "warnings.filterwarnings('ignore')"
   ]
  },
  {
   "cell_type": "code",
   "execution_count": 96,
   "id": "ca40256c",
   "metadata": {},
   "outputs": [],
   "source": [
    "data = pd.read_csv('Features\\Features_no_filtering_ordered.csv')"
   ]
  },
  {
   "cell_type": "code",
   "execution_count": 97,
   "id": "bd582e01",
   "metadata": {},
   "outputs": [],
   "source": [
    "X_test = data.loc[(data['film'] == 41)].reset_index(drop=True)\n",
    "\n",
    "X_train = data.loc[(data['film'] != 41)].reset_index(drop=True)"
   ]
  },
  {
   "cell_type": "code",
   "execution_count": 98,
   "id": "db5768a9",
   "metadata": {},
   "outputs": [],
   "source": [
    "X_train = X_train.sample(frac=1)\n",
    "X_test = X_test.sample(frac=1)\n",
    "\n",
    "y_train = X_train['labels']\n",
    "y_test = X_test['labels']\n",
    "\n",
    "train_film = X_train['film']\n",
    "train_subj = X_train['Subj']\n",
    "train_ch = X_train['ch']\n",
    "test_film = X_test['film']\n",
    "test_subj = X_test['Subj']\n",
    "test_ch = X_test['ch']\n",
    "X_train = X_train.drop(['labels', 'ch', 'Subj', 'film'], axis=1)\n",
    "X_test = X_test.drop(['labels', 'ch', 'Subj', 'film'], axis=1)"
   ]
  },
  {
   "cell_type": "code",
   "execution_count": 99,
   "id": "ed9711b1",
   "metadata": {},
   "outputs": [],
   "source": [
    "from sklearn.preprocessing import QuantileTransformer"
   ]
  },
  {
   "cell_type": "code",
   "execution_count": 100,
   "id": "29f838c0",
   "metadata": {},
   "outputs": [
    {
     "data": {
      "text/plain": [
       "<AxesSubplot:>"
      ]
     },
     "execution_count": 100,
     "metadata": {},
     "output_type": "execute_result"
    },
    {
     "data": {
      "image/png": "[encoded data removed]",
      "text/plain": [
       "<Figure size 432x288 with 1 Axes>"
      ]
     },
     "metadata": {
      "needs_background": "light"
     },
     "output_type": "display_data"
    }
   ],
   "source": [
    "y_train.hist()"
   ]
  },
  {
   "cell_type": "code",
   "execution_count": 101,
   "id": "83f3a544",
   "metadata": {},
   "outputs": [
    {
     "data": {
      "text/plain": [
       "array([[<AxesSubplot:title={'center':'0'}>]], dtype=object)"
      ]
     },
     "execution_count": 101,
     "metadata": {},
     "output_type": "execute_result"
    },
    {
     "data": {
      "image/png": "[encoded data removed]",
      "text/plain": [
       "<Figure size 432x288 with 1 Axes>"
      ]
     },
     "metadata": {
      "needs_background": "light"
     },
     "output_type": "display_data"
    }
   ],
   "source": [
    "qt_train = QuantileTransformer(output_distribution='normal', copy=True)\n",
    "y_train = pd.DataFrame(qt_train.fit_transform(np.array(y_train).reshape(-1, 1)))\n",
    "y_train.hist()"
   ]
  },
  {
   "cell_type": "code",
   "execution_count": 102,
   "id": "f4100003",
   "metadata": {},
   "outputs": [
    {
     "data": {
      "text/plain": [
       "<AxesSubplot:>"
      ]
     },
     "execution_count": 102,
     "metadata": {},
     "output_type": "execute_result"
    },
    {
     "data": {
      "image/png": "[encoded data removed]",
      "text/plain": [
       "<Figure size 432x288 with 1 Axes>"
      ]
     },
     "metadata": {
      "needs_background": "light"
     },
     "output_type": "display_data"
    }
   ],
   "source": [
    "y_test.hist()"
   ]
  },
  {
   "cell_type": "code",
   "execution_count": 103,
   "id": "14b880d9",
   "metadata": {},
   "outputs": [
    {
     "data": {
      "text/plain": [
       "array([[<AxesSubplot:title={'center':'0'}>]], dtype=object)"
      ]
     },
     "execution_count": 103,
     "metadata": {},
     "output_type": "execute_result"
    },
    {
     "data": {
      "image/png": "[encoded data removed]",
      "text/plain": [
       "<Figure size 432x288 with 1 Axes>"
      ]
     },
     "metadata": {
      "needs_background": "light"
     },
     "output_type": "display_data"
    }
   ],
   "source": [
    "qt_test = QuantileTransformer(output_distribution='normal', copy=True)\n",
    "y_test = pd.DataFrame(qt_test.fit_transform(np.array(y_test).reshape(-1, 1)))\n",
    "y_test.hist()"
   ]
  },
  {
   "cell_type": "code",
   "execution_count": 104,
   "id": "9c2ab82b",
   "metadata": {},
   "outputs": [],
   "source": [
    "from sklearn.linear_model import ElasticNet"
   ]
  },
  {
   "cell_type": "code",
   "execution_count": 105,
   "id": "4a18e366",
   "metadata": {},
   "outputs": [],
   "source": [
    "from sklearn.model_selection import GridSearchCV"
   ]
  },
  {
   "cell_type": "code",
   "execution_count": 106,
   "id": "247d157e",
   "metadata": {},
   "outputs": [
    {
     "data": {
      "text/plain": [
       "GridSearchCV(cv=5, estimator=ElasticNet(),\n",
       "             param_grid=[{'alpha': [0.001, 0.01, 0.1, 1, 10, 100, 1000]}],\n",
       "             scoring='neg_root_mean_squared_error')"
      ]
     },
     "execution_count": 106,
     "metadata": {},
     "output_type": "execute_result"
    }
   ],
   "source": [
    "alphas = [0.001, 0.01, 0.1, 1, 10, 100, 1000]\n",
    "searcher = GridSearchCV(ElasticNet(), [{\"alpha\": alphas}], scoring=\"neg_root_mean_squared_error\", cv=5)\n",
    "searcher.fit(X_train, y_train)"
   ]
  },
  {
   "cell_type": "code",
   "execution_count": 107,
   "id": "31bb5a0d",
   "metadata": {},
   "outputs": [
    {
     "data": {
      "text/plain": [
       "0.001"
      ]
     },
     "execution_count": 107,
     "metadata": {},
     "output_type": "execute_result"
    }
   ],
   "source": [
    "searcher.best_params_[\"alpha\"]"
   ]
  },
  {
   "cell_type": "code",
   "execution_count": 108,
   "id": "62dc93d0",
   "metadata": {},
   "outputs": [],
   "source": [
    "model = ElasticNet(searcher.best_params_[\"alpha\"]).fit(X_train, y_train)"
   ]
  },
  {
   "cell_type": "code",
   "execution_count": 109,
   "id": "825683fa",
   "metadata": {},
   "outputs": [],
   "source": [
    "y_pred = model.predict(X_test)"
   ]
  },
  {
   "cell_type": "code",
   "execution_count": 110,
   "id": "f9afcdbb",
   "metadata": {},
   "outputs": [],
   "source": [
    "from sklearn.metrics import mean_absolute_percentage_error\n",
    "from sklearn.metrics import mean_absolute_error\n",
    "from sklearn.metrics import r2_score"
   ]
  },
  {
   "cell_type": "code",
   "execution_count": 111,
   "id": "275402ad",
   "metadata": {},
   "outputs": [
    {
     "name": "stdout",
     "output_type": "stream",
     "text": [
      "0.3114435389449569\n",
      "1.3222468312822768\n",
      "1.9321996001005866\n"
     ]
    }
   ],
   "source": [
    "print(r2_score(y_test, y_pred))\n",
    "print(mean_absolute_percentage_error(y_test, y_pred))\n",
    "print(mean_absolute_error(y_test, y_pred))"
   ]
  },
  {
   "cell_type": "code",
   "execution_count": 112,
   "id": "2f44c1b9",
   "metadata": {},
   "outputs": [],
   "source": [
    "preds = qt_test.inverse_transform(np.array(y_pred).reshape(-1, 1))"
   ]
  },
  {
   "cell_type": "code",
   "execution_count": 113,
   "id": "49a301d1",
   "metadata": {},
   "outputs": [],
   "source": [
    "y_test_inv = qt_test.inverse_transform(np.array(y_test).reshape(-1, 1))"
   ]
  },
  {
   "cell_type": "code",
   "execution_count": 114,
   "id": "f3246242",
   "metadata": {},
   "outputs": [
    {
     "name": "stdout",
     "output_type": "stream",
     "text": [
      "0.8600402982572308\n",
      "0.10179771327702568\n",
      "0.46592998675597086\n"
     ]
    }
   ],
   "source": [
    "print(r2_score(y_test_inv, preds))\n",
    "print(mean_absolute_percentage_error(y_test_inv, preds))\n",
    "print(mean_absolute_error(y_test_inv ,preds))"
   ]
  },
  {
   "cell_type": "code",
   "execution_count": 115,
   "id": "f6c039e2",
   "metadata": {},
   "outputs": [],
   "source": [
    "pred = [[0 for j in range(8)] for i in range(42)]\n",
    "num_chans = [[0 for j in range(8)] for i in range(42)]\n",
    "labels = [[0 for j in range(8)] for i in range(42)]\n",
    "lbl = [[0 for j in range(8)] for i in range(42)]\n",
    "for i in range(len(preds)):\n",
    "    pred[np.array(test_subj)[i]][np.array(test_film)[i] - 41] += preds[i]\n",
    "    num_chans[np.array(test_subj)[i]][np.array(test_film)[i] - 41] += 1\n",
    "    labels[np.array(test_subj)[i]][np.array(test_film)[i] - 41] += y_test_inv[i]\n",
    "labels = np.array(labels).astype(np.float64) / np.array(num_chans).astype(np.float64)\n",
    "pred = np.array(pred).astype(np.float64) / np.array(num_chans).astype(np.float64)\n",
    "labels = np.nan_to_num(labels)\n",
    "pred = np.nan_to_num(pred)\n",
    "predicted = []\n",
    "lbl = []\n",
    "for i in range(len(labels)):\n",
    "    if sum(labels[i]) != 0:\n",
    "        for j in range(4):\n",
    "            if labels[i][j] != 0:\n",
    "                lbl.append(labels[i][j])  \n",
    "                predicted.append(pred[i][j])"
   ]
  },
  {
   "cell_type": "code",
   "execution_count": 116,
   "id": "00444a9d",
   "metadata": {},
   "outputs": [
    {
     "name": "stdout",
     "output_type": "stream",
     "text": [
      "10.0 10.0\n",
      "10.0 9.966409289266705\n",
      "6.0 6.957673699187296\n",
      "8.0 8.0\n",
      "3.0 4.326912989323562\n",
      "7.0 7.078547951976833\n",
      "9.0 8.13521544392919\n"
     ]
    }
   ],
   "source": [
    "for [l, p] in zip(lbl, predicted):\n",
    "    print(l, p)"
   ]
  },
  {
   "cell_type": "code",
   "execution_count": 117,
   "id": "486a793e",
   "metadata": {},
   "outputs": [
    {
     "name": "stdout",
     "output_type": "stream",
     "text": [
      "0.9089738178688028\n",
      "0.10179771327702568\n",
      "0.4659299867559707\n"
     ]
    }
   ],
   "source": [
    "print(r2_score(lbl, predicted))\n",
    "print(mean_absolute_percentage_error(lbl, predicted))\n",
    "print(mean_absolute_error(lbl ,predicted))"
   ]
  },
  {
   "cell_type": "code",
   "execution_count": 118,
   "id": "5bdf1d7d",
   "metadata": {},
   "outputs": [],
   "source": [
    "import matplotlib.pyplot as plt"
   ]
  },
  {
   "cell_type": "code",
   "execution_count": 119,
   "id": "c7e8e72f",
   "metadata": {
    "scrolled": false
   },
   "outputs": [
    {
     "data": {
      "image/png": "[encoded data removed]",
      "text/plain": [
       "<Figure size 1080x576 with 1 Axes>"
      ]
     },
     "metadata": {
      "needs_background": "light"
     },
     "output_type": "display_data"
    }
   ],
   "source": [
    "f, ax1 = plt.subplots(sharey=True, figsize=(15,8))\n",
    "\n",
    "ax1.scatter(lbl, predicted)\n",
    "ax1.plot([0, 10], [0, 10], '--k')\n",
    "ax1.set_ylabel('Target predicted')\n",
    "ax1.set_xlabel('True Target')\n",
    "\n",
    "f.tight_layout(rect=[0.05, 0.05, 0.95, 0.95])"
   ]
  },
  {
   "cell_type": "code",
   "execution_count": 140,
   "id": "a2a25c87",
   "metadata": {},
   "outputs": [],
   "source": [
    "from sklearn.model_selection import cross_val_score, cross_val_predict"
   ]
  },
  {
   "cell_type": "code",
   "execution_count": 141,
   "id": "7af79a8d",
   "metadata": {},
   "outputs": [],
   "source": [
    "data_all = data.reset_index(drop=True)"
   ]
  },
  {
   "cell_type": "code",
   "execution_count": 142,
   "id": "26fdd0d0",
   "metadata": {},
   "outputs": [
    {
     "data": {
      "text/html": [
       "<div>\n",
       "<style scoped>\n",
       "    .dataframe tbody tr th:only-of-type {\n",
       "        vertical-align: middle;\n",
       "    }\n",
       "\n",
       "    .dataframe tbody tr th {\n",
       "        vertical-align: top;\n",
       "    }\n",
       "\n",
       "    .dataframe thead th {\n",
       "        text-align: right;\n",
       "    }\n",
       "</style>\n",
       "<table border=\"1\" class=\"dataframe\">\n",
       "  <thead>\n",
       "    <tr style=\"text-align: right;\">\n",
       "      <th></th>\n",
       "      <th>teager_kaiser_energy_6mean</th>\n",
       "      <th>time_corr_F8</th>\n",
       "      <th>max_cross_corr_C4</th>\n",
       "      <th>fractal_katz</th>\n",
       "      <th>phase_lock_val_F3</th>\n",
       "      <th>fisher_information</th>\n",
       "      <th>decorr_time</th>\n",
       "      <th>max_cross_corr_T8</th>\n",
       "      <th>max_cross_corr_P3</th>\n",
       "      <th>spect_corr_C4</th>\n",
       "      <th>...</th>\n",
       "      <th>Subj_30</th>\n",
       "      <th>Subj_31</th>\n",
       "      <th>Subj_32</th>\n",
       "      <th>Subj_33</th>\n",
       "      <th>Subj_34</th>\n",
       "      <th>Subj_35</th>\n",
       "      <th>Subj_36</th>\n",
       "      <th>Subj_37</th>\n",
       "      <th>Subj_38</th>\n",
       "      <th>Subj_39</th>\n",
       "    </tr>\n",
       "  </thead>\n",
       "  <tbody>\n",
       "    <tr>\n",
       "      <th>0</th>\n",
       "      <td>1.116430e-04</td>\n",
       "      <td>0.218165</td>\n",
       "      <td>0.516112</td>\n",
       "      <td>0.363249</td>\n",
       "      <td>0.549476</td>\n",
       "      <td>0.279508</td>\n",
       "      <td>0.744318</td>\n",
       "      <td>0.788015</td>\n",
       "      <td>0.427071</td>\n",
       "      <td>0.295006</td>\n",
       "      <td>...</td>\n",
       "      <td>0.0</td>\n",
       "      <td>0.0</td>\n",
       "      <td>0.0</td>\n",
       "      <td>0.0</td>\n",
       "      <td>0.0</td>\n",
       "      <td>0.0</td>\n",
       "      <td>0.0</td>\n",
       "      <td>0.0</td>\n",
       "      <td>0.0</td>\n",
       "      <td>0.0</td>\n",
       "    </tr>\n",
       "    <tr>\n",
       "      <th>1</th>\n",
       "      <td>1.222589e-04</td>\n",
       "      <td>0.294963</td>\n",
       "      <td>0.412961</td>\n",
       "      <td>0.302930</td>\n",
       "      <td>0.000000</td>\n",
       "      <td>0.284011</td>\n",
       "      <td>0.750000</td>\n",
       "      <td>0.674391</td>\n",
       "      <td>0.210305</td>\n",
       "      <td>0.406826</td>\n",
       "      <td>...</td>\n",
       "      <td>0.0</td>\n",
       "      <td>0.0</td>\n",
       "      <td>0.0</td>\n",
       "      <td>0.0</td>\n",
       "      <td>0.0</td>\n",
       "      <td>0.0</td>\n",
       "      <td>0.0</td>\n",
       "      <td>0.0</td>\n",
       "      <td>0.0</td>\n",
       "      <td>0.0</td>\n",
       "    </tr>\n",
       "    <tr>\n",
       "      <th>2</th>\n",
       "      <td>7.987486e-05</td>\n",
       "      <td>0.256055</td>\n",
       "      <td>0.543653</td>\n",
       "      <td>0.298399</td>\n",
       "      <td>0.351609</td>\n",
       "      <td>0.274894</td>\n",
       "      <td>0.750000</td>\n",
       "      <td>0.660297</td>\n",
       "      <td>0.079877</td>\n",
       "      <td>0.553034</td>\n",
       "      <td>...</td>\n",
       "      <td>0.0</td>\n",
       "      <td>0.0</td>\n",
       "      <td>0.0</td>\n",
       "      <td>0.0</td>\n",
       "      <td>0.0</td>\n",
       "      <td>0.0</td>\n",
       "      <td>0.0</td>\n",
       "      <td>0.0</td>\n",
       "      <td>0.0</td>\n",
       "      <td>0.0</td>\n",
       "    </tr>\n",
       "    <tr>\n",
       "      <th>3</th>\n",
       "      <td>2.984681e-04</td>\n",
       "      <td>0.346090</td>\n",
       "      <td>0.389749</td>\n",
       "      <td>0.362881</td>\n",
       "      <td>0.495271</td>\n",
       "      <td>0.198436</td>\n",
       "      <td>0.750000</td>\n",
       "      <td>0.627896</td>\n",
       "      <td>0.152767</td>\n",
       "      <td>0.794022</td>\n",
       "      <td>...</td>\n",
       "      <td>0.0</td>\n",
       "      <td>0.0</td>\n",
       "      <td>0.0</td>\n",
       "      <td>0.0</td>\n",
       "      <td>0.0</td>\n",
       "      <td>0.0</td>\n",
       "      <td>0.0</td>\n",
       "      <td>0.0</td>\n",
       "      <td>0.0</td>\n",
       "      <td>0.0</td>\n",
       "    </tr>\n",
       "    <tr>\n",
       "      <th>4</th>\n",
       "      <td>1.145732e-04</td>\n",
       "      <td>0.584050</td>\n",
       "      <td>0.108225</td>\n",
       "      <td>0.294442</td>\n",
       "      <td>0.316123</td>\n",
       "      <td>0.309459</td>\n",
       "      <td>0.750000</td>\n",
       "      <td>0.518746</td>\n",
       "      <td>0.556116</td>\n",
       "      <td>0.409080</td>\n",
       "      <td>...</td>\n",
       "      <td>0.0</td>\n",
       "      <td>0.0</td>\n",
       "      <td>0.0</td>\n",
       "      <td>0.0</td>\n",
       "      <td>0.0</td>\n",
       "      <td>0.0</td>\n",
       "      <td>0.0</td>\n",
       "      <td>0.0</td>\n",
       "      <td>0.0</td>\n",
       "      <td>0.0</td>\n",
       "    </tr>\n",
       "    <tr>\n",
       "      <th>...</th>\n",
       "      <td>...</td>\n",
       "      <td>...</td>\n",
       "      <td>...</td>\n",
       "      <td>...</td>\n",
       "      <td>...</td>\n",
       "      <td>...</td>\n",
       "      <td>...</td>\n",
       "      <td>...</td>\n",
       "      <td>...</td>\n",
       "      <td>...</td>\n",
       "      <td>...</td>\n",
       "      <td>...</td>\n",
       "      <td>...</td>\n",
       "      <td>...</td>\n",
       "      <td>...</td>\n",
       "      <td>...</td>\n",
       "      <td>...</td>\n",
       "      <td>...</td>\n",
       "      <td>...</td>\n",
       "      <td>...</td>\n",
       "      <td>...</td>\n",
       "    </tr>\n",
       "    <tr>\n",
       "      <th>24043</th>\n",
       "      <td>4.222781e-10</td>\n",
       "      <td>0.449646</td>\n",
       "      <td>0.778307</td>\n",
       "      <td>0.344409</td>\n",
       "      <td>0.102099</td>\n",
       "      <td>0.547843</td>\n",
       "      <td>0.000000</td>\n",
       "      <td>0.400588</td>\n",
       "      <td>0.684508</td>\n",
       "      <td>0.809331</td>\n",
       "      <td>...</td>\n",
       "      <td>0.0</td>\n",
       "      <td>0.0</td>\n",
       "      <td>0.0</td>\n",
       "      <td>0.0</td>\n",
       "      <td>0.0</td>\n",
       "      <td>0.0</td>\n",
       "      <td>0.0</td>\n",
       "      <td>0.0</td>\n",
       "      <td>0.0</td>\n",
       "      <td>1.0</td>\n",
       "    </tr>\n",
       "    <tr>\n",
       "      <th>24044</th>\n",
       "      <td>3.903128e-10</td>\n",
       "      <td>0.734446</td>\n",
       "      <td>0.000000</td>\n",
       "      <td>0.350095</td>\n",
       "      <td>0.079309</td>\n",
       "      <td>0.470511</td>\n",
       "      <td>0.000000</td>\n",
       "      <td>0.701760</td>\n",
       "      <td>0.535743</td>\n",
       "      <td>0.499011</td>\n",
       "      <td>...</td>\n",
       "      <td>0.0</td>\n",
       "      <td>0.0</td>\n",
       "      <td>0.0</td>\n",
       "      <td>0.0</td>\n",
       "      <td>0.0</td>\n",
       "      <td>0.0</td>\n",
       "      <td>0.0</td>\n",
       "      <td>0.0</td>\n",
       "      <td>0.0</td>\n",
       "      <td>1.0</td>\n",
       "    </tr>\n",
       "    <tr>\n",
       "      <th>24045</th>\n",
       "      <td>1.437144e-09</td>\n",
       "      <td>0.838142</td>\n",
       "      <td>0.700925</td>\n",
       "      <td>0.440958</td>\n",
       "      <td>0.058883</td>\n",
       "      <td>0.283860</td>\n",
       "      <td>0.000000</td>\n",
       "      <td>0.000000</td>\n",
       "      <td>0.186631</td>\n",
       "      <td>0.140640</td>\n",
       "      <td>...</td>\n",
       "      <td>0.0</td>\n",
       "      <td>0.0</td>\n",
       "      <td>0.0</td>\n",
       "      <td>0.0</td>\n",
       "      <td>0.0</td>\n",
       "      <td>0.0</td>\n",
       "      <td>0.0</td>\n",
       "      <td>0.0</td>\n",
       "      <td>0.0</td>\n",
       "      <td>1.0</td>\n",
       "    </tr>\n",
       "    <tr>\n",
       "      <th>24046</th>\n",
       "      <td>5.283381e-10</td>\n",
       "      <td>0.836981</td>\n",
       "      <td>0.838758</td>\n",
       "      <td>0.361852</td>\n",
       "      <td>0.079258</td>\n",
       "      <td>0.480124</td>\n",
       "      <td>0.000000</td>\n",
       "      <td>0.755741</td>\n",
       "      <td>0.309949</td>\n",
       "      <td>0.800837</td>\n",
       "      <td>...</td>\n",
       "      <td>0.0</td>\n",
       "      <td>0.0</td>\n",
       "      <td>0.0</td>\n",
       "      <td>0.0</td>\n",
       "      <td>0.0</td>\n",
       "      <td>0.0</td>\n",
       "      <td>0.0</td>\n",
       "      <td>0.0</td>\n",
       "      <td>0.0</td>\n",
       "      <td>1.0</td>\n",
       "    </tr>\n",
       "    <tr>\n",
       "      <th>24047</th>\n",
       "      <td>4.782216e-10</td>\n",
       "      <td>0.500257</td>\n",
       "      <td>0.595310</td>\n",
       "      <td>0.238823</td>\n",
       "      <td>0.015301</td>\n",
       "      <td>0.669948</td>\n",
       "      <td>0.000000</td>\n",
       "      <td>0.791737</td>\n",
       "      <td>0.034436</td>\n",
       "      <td>0.549907</td>\n",
       "      <td>...</td>\n",
       "      <td>0.0</td>\n",
       "      <td>0.0</td>\n",
       "      <td>0.0</td>\n",
       "      <td>0.0</td>\n",
       "      <td>0.0</td>\n",
       "      <td>0.0</td>\n",
       "      <td>0.0</td>\n",
       "      <td>0.0</td>\n",
       "      <td>0.0</td>\n",
       "      <td>1.0</td>\n",
       "    </tr>\n",
       "  </tbody>\n",
       "</table>\n",
       "<p>24048 rows × 261 columns</p>\n",
       "</div>"
      ],
      "text/plain": [
       "       teager_kaiser_energy_6mean  time_corr_F8  max_cross_corr_C4  \\\n",
       "0                    1.116430e-04      0.218165           0.516112   \n",
       "1                    1.222589e-04      0.294963           0.412961   \n",
       "2                    7.987486e-05      0.256055           0.543653   \n",
       "3                    2.984681e-04      0.346090           0.389749   \n",
       "4                    1.145732e-04      0.584050           0.108225   \n",
       "...                           ...           ...                ...   \n",
       "24043                4.222781e-10      0.449646           0.778307   \n",
       "24044                3.903128e-10      0.734446           0.000000   \n",
       "24045                1.437144e-09      0.838142           0.700925   \n",
       "24046                5.283381e-10      0.836981           0.838758   \n",
       "24047                4.782216e-10      0.500257           0.595310   \n",
       "\n",
       "       fractal_katz  phase_lock_val_F3  fisher_information  decorr_time  \\\n",
       "0          0.363249           0.549476            0.279508     0.744318   \n",
       "1          0.302930           0.000000            0.284011     0.750000   \n",
       "2          0.298399           0.351609            0.274894     0.750000   \n",
       "3          0.362881           0.495271            0.198436     0.750000   \n",
       "4          0.294442           0.316123            0.309459     0.750000   \n",
       "...             ...                ...                 ...          ...   \n",
       "24043      0.344409           0.102099            0.547843     0.000000   \n",
       "24044      0.350095           0.079309            0.470511     0.000000   \n",
       "24045      0.440958           0.058883            0.283860     0.000000   \n",
       "24046      0.361852           0.079258            0.480124     0.000000   \n",
       "24047      0.238823           0.015301            0.669948     0.000000   \n",
       "\n",
       "       max_cross_corr_T8  max_cross_corr_P3  spect_corr_C4  ...  Subj_30  \\\n",
       "0               0.788015           0.427071       0.295006  ...      0.0   \n",
       "1               0.674391           0.210305       0.406826  ...      0.0   \n",
       "2               0.660297           0.079877       0.553034  ...      0.0   \n",
       "3               0.627896           0.152767       0.794022  ...      0.0   \n",
       "4               0.518746           0.556116       0.409080  ...      0.0   \n",
       "...                  ...                ...            ...  ...      ...   \n",
       "24043           0.400588           0.684508       0.809331  ...      0.0   \n",
       "24044           0.701760           0.535743       0.499011  ...      0.0   \n",
       "24045           0.000000           0.186631       0.140640  ...      0.0   \n",
       "24046           0.755741           0.309949       0.800837  ...      0.0   \n",
       "24047           0.791737           0.034436       0.549907  ...      0.0   \n",
       "\n",
       "       Subj_31  Subj_32  Subj_33  Subj_34  Subj_35  Subj_36  Subj_37  Subj_38  \\\n",
       "0          0.0      0.0      0.0      0.0      0.0      0.0      0.0      0.0   \n",
       "1          0.0      0.0      0.0      0.0      0.0      0.0      0.0      0.0   \n",
       "2          0.0      0.0      0.0      0.0      0.0      0.0      0.0      0.0   \n",
       "3          0.0      0.0      0.0      0.0      0.0      0.0      0.0      0.0   \n",
       "4          0.0      0.0      0.0      0.0      0.0      0.0      0.0      0.0   \n",
       "...        ...      ...      ...      ...      ...      ...      ...      ...   \n",
       "24043      0.0      0.0      0.0      0.0      0.0      0.0      0.0      0.0   \n",
       "24044      0.0      0.0      0.0      0.0      0.0      0.0      0.0      0.0   \n",
       "24045      0.0      0.0      0.0      0.0      0.0      0.0      0.0      0.0   \n",
       "24046      0.0      0.0      0.0      0.0      0.0      0.0      0.0      0.0   \n",
       "24047      0.0      0.0      0.0      0.0      0.0      0.0      0.0      0.0   \n",
       "\n",
       "       Subj_39  \n",
       "0          0.0  \n",
       "1          0.0  \n",
       "2          0.0  \n",
       "3          0.0  \n",
       "4          0.0  \n",
       "...        ...  \n",
       "24043      1.0  \n",
       "24044      1.0  \n",
       "24045      1.0  \n",
       "24046      1.0  \n",
       "24047      1.0  \n",
       "\n",
       "[24048 rows x 261 columns]"
      ]
     },
     "execution_count": 142,
     "metadata": {},
     "output_type": "execute_result"
    }
   ],
   "source": [
    "X = data.drop(['labels', 'ch', 'film', 'Subj'], axis=1)\n",
    "X"
   ]
  },
  {
   "cell_type": "code",
   "execution_count": 143,
   "id": "12b52fbf",
   "metadata": {},
   "outputs": [
    {
     "data": {
      "text/html": [
       "<div>\n",
       "<style scoped>\n",
       "    .dataframe tbody tr th:only-of-type {\n",
       "        vertical-align: middle;\n",
       "    }\n",
       "\n",
       "    .dataframe tbody tr th {\n",
       "        vertical-align: top;\n",
       "    }\n",
       "\n",
       "    .dataframe thead th {\n",
       "        text-align: right;\n",
       "    }\n",
       "</style>\n",
       "<table border=\"1\" class=\"dataframe\">\n",
       "  <thead>\n",
       "    <tr style=\"text-align: right;\">\n",
       "      <th></th>\n",
       "      <th>0</th>\n",
       "    </tr>\n",
       "  </thead>\n",
       "  <tbody>\n",
       "    <tr>\n",
       "      <th>0</th>\n",
       "      <td>0.945616</td>\n",
       "    </tr>\n",
       "    <tr>\n",
       "      <th>1</th>\n",
       "      <td>0.945616</td>\n",
       "    </tr>\n",
       "    <tr>\n",
       "      <th>2</th>\n",
       "      <td>0.945616</td>\n",
       "    </tr>\n",
       "    <tr>\n",
       "      <th>3</th>\n",
       "      <td>0.945616</td>\n",
       "    </tr>\n",
       "    <tr>\n",
       "      <th>4</th>\n",
       "      <td>0.945616</td>\n",
       "    </tr>\n",
       "    <tr>\n",
       "      <th>...</th>\n",
       "      <td>...</td>\n",
       "    </tr>\n",
       "    <tr>\n",
       "      <th>24043</th>\n",
       "      <td>1.942703</td>\n",
       "    </tr>\n",
       "    <tr>\n",
       "      <th>24044</th>\n",
       "      <td>1.942703</td>\n",
       "    </tr>\n",
       "    <tr>\n",
       "      <th>24045</th>\n",
       "      <td>1.942703</td>\n",
       "    </tr>\n",
       "    <tr>\n",
       "      <th>24046</th>\n",
       "      <td>1.942703</td>\n",
       "    </tr>\n",
       "    <tr>\n",
       "      <th>24047</th>\n",
       "      <td>1.942703</td>\n",
       "    </tr>\n",
       "  </tbody>\n",
       "</table>\n",
       "<p>24048 rows × 1 columns</p>\n",
       "</div>"
      ],
      "text/plain": [
       "              0\n",
       "0      0.945616\n",
       "1      0.945616\n",
       "2      0.945616\n",
       "3      0.945616\n",
       "4      0.945616\n",
       "...         ...\n",
       "24043  1.942703\n",
       "24044  1.942703\n",
       "24045  1.942703\n",
       "24046  1.942703\n",
       "24047  1.942703\n",
       "\n",
       "[24048 rows x 1 columns]"
      ]
     },
     "execution_count": 143,
     "metadata": {},
     "output_type": "execute_result"
    }
   ],
   "source": [
    "y = data['labels']\n",
    "qt_all = QuantileTransformer(output_distribution='normal', copy=True)\n",
    "y = pd.DataFrame(qt_all.fit_transform(np.array(y).reshape(-1, 1)))\n",
    "y"
   ]
  },
  {
   "cell_type": "code",
   "execution_count": 144,
   "id": "67349043",
   "metadata": {},
   "outputs": [
    {
     "name": "stdout",
     "output_type": "stream",
     "text": [
      "0.14702633749868754\n",
      "3.4350344052487616\n",
      "1.0058748355204945\n"
     ]
    }
   ],
   "source": [
    "print(r2_score(y, predictions))\n",
    "print(mean_absolute_percentage_error(y, predictions))\n",
    "print(mean_absolute_error(y, predictions))"
   ]
  },
  {
   "cell_type": "code",
   "execution_count": 145,
   "id": "4d5dc31b",
   "metadata": {},
   "outputs": [],
   "source": [
    "from sklearn.feature_selection import SelectFromModel"
   ]
  },
  {
   "cell_type": "code",
   "execution_count": 146,
   "id": "46a5b260",
   "metadata": {},
   "outputs": [
    {
     "name": "stdout",
     "output_type": "stream",
     "text": [
      "Features selected by SelectFromModel: Index(['teager_kaiser_energy_6mean', 'time_corr_F8', 'max_cross_corr_C4',\n",
      "       'fractal_katz', 'phase_lock_val_F3', 'fisher_information',\n",
      "       'decorr_time', 'max_cross_corr_T8', 'max_cross_corr_P3',\n",
      "       'spect_corr_C4',\n",
      "       ...\n",
      "       'Subj_30', 'Subj_31', 'Subj_32', 'Subj_33', 'Subj_34', 'Subj_35',\n",
      "       'Subj_36', 'Subj_37', 'Subj_38', 'Subj_39'],\n",
      "      dtype='object', length=261)\n"
     ]
    }
   ],
   "source": [
    "sfm = SelectFromModel(ElasticNet()).fit(X, y)\n",
    "\n",
    "print(f\"Features selected by SelectFromModel: {X.columns[sfm.get_support()]}\")"
   ]
  },
  {
   "cell_type": "code",
   "execution_count": 147,
   "id": "fbf7bab2",
   "metadata": {},
   "outputs": [],
   "source": [
    "import tqdm\n",
    "from sklearn.feature_selection import SelectKBest\n",
    "from sklearn.feature_selection import f_regression"
   ]
  },
  {
   "cell_type": "code",
   "execution_count": null,
   "id": "e282bc0d",
   "metadata": {},
   "outputs": [],
   "source": [
    "%%capture cap --no-stderr\n",
    "AVERAGE_MAE = 0\n",
    "AVERAGE_MAPE = 0\n",
    "AVERAGE_R2 = 0\n",
    "BEST_MODELS_MAE = []\n",
    "BEST_MODELS_MAPE = []\n",
    "BEST_MODELS_R2 = []\n",
    "MIN_MAE = np.inf\n",
    "MIN_MAPE = np.inf\n",
    "MAX_R2 = -np.inf\n",
    "MAX_MAE = -np.inf\n",
    "MAX_MAPE = -np.inf\n",
    "MIN_R2 = np.inf\n",
    "chans = ['Fz', 'F3', 'F7','C3', 'T7', 'Pz', 'P3','P7', 'O1', 'Oz', 'O2','P4', 'P8', 'Cz','C4', 'T8', 'F4', 'F8']\n",
    "for film in tqdm.notebook.tqdm(range(41, 49)):\n",
    "    best = []\n",
    "    best_features = []\n",
    "    print('Testing for ', film - 40 , 'film')\n",
    "    X_test = data_all.loc[(data_all['film'] == film)].reset_index(drop=True)\n",
    "    X_train = data_all.loc[(data_all['film'] != film)].reset_index(drop=True)\n",
    "    X_train = X_train.sample(frac=1)\n",
    "    X_test = X_test.sample(frac=1)\n",
    "\n",
    "    y_train = X_train['labels']\n",
    "    y_test_inv = np.array(X_test['labels'])\n",
    "    train_film = X_train['film']\n",
    "    train_subj = X_train['Subj']\n",
    "    train_ch = X_train['ch']\n",
    "    test_film = X_test['film']\n",
    "    test_subj = X_test['Subj']\n",
    "    test_ch = np.array(X_test['ch'])\n",
    "    X_train = X_train.drop(['labels'], axis=1)\n",
    "    X_test = X_test.drop(['labels'], axis=1)\n",
    "    \n",
    "    X_train = X_train.drop(['film', 'ch', 'Subj'], axis=1)\n",
    "    X_test = X_test.drop(['film', 'ch', 'Subj'], axis=1)\n",
    "    \n",
    "    qt_train = QuantileTransformer(output_distribution='normal',\n",
    "                             copy=True)\n",
    "    y_train = pd.DataFrame(qt_train.fit_transform(np.array(y_train).reshape(-1, 1)))\n",
    "    qt_test = QuantileTransformer(output_distribution='normal',\n",
    "                             copy=True)\n",
    "    y_test = pd.DataFrame(qt_test.fit_transform(np.array(y_test_inv).reshape(-1, 1)))\n",
    "    \n",
    "    SKB = SelectKBest(score_func=f_regression, k=100)\n",
    "    X_new = SKB.fit_transform(X_train, y_train)\n",
    "    indices = SKB.get_support(indices=True)\n",
    "    selected_features = [X_train.columns[indices[i]] for i in range(len(indices))]\n",
    "    print('-----------------------------------------------------------------------')\n",
    "    print('selected features by SKB: ', selected_features)\n",
    "    print('-----------------------------------------------------------------')\n",
    "    print('ElasticNet')\n",
    "    model = ElasticNet(alpha=0.001, l1_ratio=1).fit(X_train, y_train)\n",
    "    y_pred = model.predict(X_test)\n",
    "    print('ElasticNet r2:', r2_score(y_test, y_pred))\n",
    "    print('ElasticNet MAPE:', mean_absolute_percentage_error(y_test, y_pred))\n",
    "    print('ElasticNet MAE : ', mean_absolute_error(y_test, y_pred))\n",
    "    preds = qt_test.inverse_transform(np.array(y_pred).reshape(-1, 1))\n",
    "    print('ElasticNet inverted r2:', r2_score(preds, y_test_inv))\n",
    "    print('ElasticNet inverted MAPE: ', mean_absolute_percentage_error(preds, y_test_inv))\n",
    "    print('ElasticNet inverted MAE: ', mean_absolute_error(preds, y_test_inv))\n",
    "    \n",
    "    pred = [[0 for j in range(8)] for i in range(42)]\n",
    "    num_chans = [[0 for j in range(8)] for i in range(42)]\n",
    "    labels = [[0 for j in range(8)] for i in range(42)]\n",
    "    lbl = [[0 for j in range(8)] for i in range(42)]\n",
    "    channels = [[] for i in range(40)]\n",
    "    for i in range(len(preds)):\n",
    "        pred[np.array(test_subj)[i]][np.array(test_film)[i] - 41] += preds[i]\n",
    "        num_chans[np.array(test_subj)[i]][np.array(test_film)[i] - 41] += 1\n",
    "        labels[np.array(test_subj)[i]][np.array(test_film)[i] - 41] += y_test_inv[i]\n",
    "        channels[np.array(test_subj)[i]].append(chans[test_ch[i]])\n",
    "    labels = np.array(labels).astype(np.float64) / np.array(num_chans).astype(np.float64)\n",
    "    pred = np.array(pred).astype(np.float64) / np.array(num_chans).astype(np.float64)\n",
    "    labels = np.nan_to_num(labels)\n",
    "    pred = np.nan_to_num(pred)\n",
    "    predicted = []\n",
    "    lbl = []\n",
    "    for i in range(len(labels)):\n",
    "        if sum(labels[i]) != 0:\n",
    "            for j in range(8):\n",
    "                if labels[i][j] != 0:\n",
    "                    lbl.append(labels[i][j])  \n",
    "                    predicted.append(pred[i][j])\n",
    "    print('ElasticNet inverted by film r2:', r2_score(lbl, predicted))\n",
    "    print('ElasticNet inverted by film MAPE:', mean_absolute_percentage_error(lbl, predicted))\n",
    "    print('ElasticNet inverted by film MAE:', mean_absolute_error(lbl ,predicted))\n",
    "    best.append({'MAE' : mean_absolute_error(lbl ,predicted), 'MAPE' : mean_absolute_percentage_error(lbl, predicted), 'r2' : r2_score(lbl, predicted) , 'model' : 'ElasticNet'})\n",
    "    for [l, p] in zip(lbl, predicted):\n",
    "        print('label : {:0.2f} predicted: {:0.2f} '.format(l, p))\n",
    "    for i in range(33, len(channels)):\n",
    "        print('predictions by channel', channels[i])\n",
    "    print('-----------------------------------------------------------------')\n",
    "#     print('DecisionTreeRegressor')\n",
    "#     model = DecisionTreeRegressor().fit(X_train, y_train)\n",
    "#     y_pred = model.predict(X_test)\n",
    "#     print('DecisionTreeRegressor r2:', r2_score(y_test, y_pred))\n",
    "#     print('DecisionTreeRegressor MAPE:', mean_absolute_percentage_error(y_test, y_pred))\n",
    "#     print('DecisionTreeRegressor MAE : ', mean_absolute_error(y_test, y_pred))\n",
    "#     preds = qt_test.inverse_transform(np.array(y_pred).reshape(-1, 1))\n",
    "#     print('DecisionTreeRegressor inverted r2:', r2_score(preds, y_test_inv))\n",
    "#     print('DecisionTreeRegressor inverted MAPE: ', mean_absolute_percentage_error(preds, y_test_inv))\n",
    "#     print('DecisionTreeRegressor inverted MAE: ', mean_absolute_error(preds, y_test_inv))\n",
    "    \n",
    "#     pred = [[0 for j in range(8)] for i in range(42)]\n",
    "#     num_chans = [[0 for j in range(8)] for i in range(42)]\n",
    "#     labels = [[0 for j in range(8)] for i in range(42)]\n",
    "#     lbl = [[0 for j in range(8)] for i in range(42)]\n",
    "#     channels = [[] for i in range(40)]\n",
    "#     for i in range(len(preds)):\n",
    "#         pred[np.array(test_subj)[i]][np.array(test_film)[i] - 41] += preds[i]\n",
    "#         num_chans[np.array(test_subj)[i]][np.array(test_film)[i] - 41] += 1\n",
    "#         labels[np.array(test_subj)[i]][np.array(test_film)[i] - 41] += y_test_inv[i]\n",
    "#         channels[np.array(test_subj)[i]].append(chans[test_ch[i]])\n",
    "#     labels = np.array(labels).astype(np.float64) / np.array(num_chans).astype(np.float64)\n",
    "#     pred = np.array(pred).astype(np.float64) / np.array(num_chans).astype(np.float64)\n",
    "#     labels = np.nan_to_num(labels)\n",
    "#     pred = np.nan_to_num(pred)\n",
    "#     predicted = []\n",
    "#     lbl = []\n",
    "#     for i in range(len(labels)):\n",
    "#         if sum(labels[i]) != 0:\n",
    "#             for j in range(8):\n",
    "#                 if labels[i][j] != 0:\n",
    "#                     lbl.append(labels[i][j])  \n",
    "#                     predicted.append(pred[i][j])\n",
    "#     print('DecisionTreeRegressor inverted by film r2:', r2_score(lbl, predicted))\n",
    "#     print('DecisionTreeRegressor inverted by film MAPE:', mean_absolute_percentage_error(lbl, predicted))\n",
    "#     print('DecisionTreeRegressor inverted by film MAE:', mean_absolute_error(lbl ,predicted))\n",
    "#     best.append({'MAE' : mean_absolute_error(lbl ,predicted), 'MAPE' : mean_absolute_percentage_error(lbl, predicted), 'r2' : r2_score(lbl, predicted) , 'model' : 'DecisionTreeRegressor'})\n",
    "\n",
    "#     for [l, p] in zip(lbl, predicted):\n",
    "#         print('label : {:0.2f} predicted: {:0.2f} '.format(l, p))\n",
    "#     for i in range(33, len(channels)):\n",
    "#         print('predictions by channel', channels[i])\n",
    " "
   ]
  },
  {
   "cell_type": "code",
   "execution_count": null,
   "id": "12cfaf4e",
   "metadata": {},
   "outputs": [],
   "source": [
    "with open('minmax_full_factor_3.txt', 'w') as f:\n",
    "    f.write(cap.stdout)"
   ]
  },
  {
   "cell_type": "code",
   "execution_count": null,
   "id": "27ebd847",
   "metadata": {},
   "outputs": [],
   "source": []
  }
 ],
 "metadata": {
  "kernelspec": {
   "display_name": "Python 3 (ipykernel)",
   "language": "python",
   "name": "python3"
  },
  "language_info": {
   "codemirror_mode": {
    "name": "ipython",
    "version": 3
   },
   "file_extension": ".py",
   "mimetype": "text/x-python",
   "name": "python",
   "nbconvert_exporter": "python",
   "pygments_lexer": "ipython3",
   "version": "3.7.9"
  }
 },
 "nbformat": 4,
 "nbformat_minor": 5
}
